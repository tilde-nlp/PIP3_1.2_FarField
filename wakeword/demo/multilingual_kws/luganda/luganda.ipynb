{
  "nbformat": 4,
  "nbformat_minor": 0,
  "metadata": {
    "colab": {
      "name": "luganda.ipynb",
      "provenance": [],
      "collapsed_sections": []
    },
    "kernelspec": {
      "name": "python3",
      "display_name": "Python 3"
    },
    "language_info": {
      "name": "python"
    },
    "accelerator": "GPU"
  },
  "cells": [
    {
      "cell_type": "markdown",
      "metadata": {
        "id": "qLso4jRyGwi-"
      },
      "source": [
        "Install dependencies and the multilingual_kws module"
      ]
    },
    {
      "cell_type": "code",
      "metadata": {
        "id": "_uc-JLFSL-u6"
      },
      "source": [
        "!apt-get -qq install -y sox ffmpeg && pip install --quiet sox\n",
        "!git clone --quiet https://github.com/harvard-edge/multilingual_kws\n",
        "import sys\n",
        "sys.path.append(\"/content/multilingual_kws/\")\n",
        "import pickle"
      ],
      "execution_count": null,
      "outputs": []
    },
    {
      "cell_type": "markdown",
      "metadata": {
        "id": "tEibnguaHjWt"
      },
      "source": [
        "Import tools for streaming keyword search:"
      ]
    },
    {
      "cell_type": "code",
      "metadata": {
        "id": "wgqZtAyKRUpl"
      },
      "source": [
        "from multilingual_kws.embedding import batch_streaming_analysis as sa"
      ],
      "execution_count": null,
      "outputs": []
    },
    {
      "cell_type": "markdown",
      "metadata": {
        "id": "4kGXBY4yHzBn"
      },
      "source": [
        "Upload an MP3 of a streaming audio file:"
      ]
    },
    {
      "cell_type": "code",
      "metadata": {
        "colab": {
          "resources": {
            "http://localhost:8080/nbextensions/google.colab/files.js": {
              "data": "Ly8gQ29weXJpZ2h0IDIwMTcgR29vZ2xlIExMQwovLwovLyBMaWNlbnNlZCB1bmRlciB0aGUgQXBhY2hlIExpY2Vuc2UsIFZlcnNpb24gMi4wICh0aGUgIkxpY2Vuc2UiKTsKLy8geW91IG1heSBub3QgdXNlIHRoaXMgZmlsZSBleGNlcHQgaW4gY29tcGxpYW5jZSB3aXRoIHRoZSBMaWNlbnNlLgovLyBZb3UgbWF5IG9idGFpbiBhIGNvcHkgb2YgdGhlIExpY2Vuc2UgYXQKLy8KLy8gICAgICBodHRwOi8vd3d3LmFwYWNoZS5vcmcvbGljZW5zZXMvTElDRU5TRS0yLjAKLy8KLy8gVW5sZXNzIHJlcXVpcmVkIGJ5IGFwcGxpY2FibGUgbGF3IG9yIGFncmVlZCB0byBpbiB3cml0aW5nLCBzb2Z0d2FyZQovLyBkaXN0cmlidXRlZCB1bmRlciB0aGUgTGljZW5zZSBpcyBkaXN0cmlidXRlZCBvbiBhbiAiQVMgSVMiIEJBU0lTLAovLyBXSVRIT1VUIFdBUlJBTlRJRVMgT1IgQ09ORElUSU9OUyBPRiBBTlkgS0lORCwgZWl0aGVyIGV4cHJlc3Mgb3IgaW1wbGllZC4KLy8gU2VlIHRoZSBMaWNlbnNlIGZvciB0aGUgc3BlY2lmaWMgbGFuZ3VhZ2UgZ292ZXJuaW5nIHBlcm1pc3Npb25zIGFuZAovLyBsaW1pdGF0aW9ucyB1bmRlciB0aGUgTGljZW5zZS4KCi8qKgogKiBAZmlsZW92ZXJ2aWV3IEhlbHBlcnMgZm9yIGdvb2dsZS5jb2xhYiBQeXRob24gbW9kdWxlLgogKi8KKGZ1bmN0aW9uKHNjb3BlKSB7CmZ1bmN0aW9uIHNwYW4odGV4dCwgc3R5bGVBdHRyaWJ1dGVzID0ge30pIHsKICBjb25zdCBlbGVtZW50ID0gZG9jdW1lbnQuY3JlYXRlRWxlbWVudCgnc3BhbicpOwogIGVsZW1lbnQudGV4dENvbnRlbnQgPSB0ZXh0OwogIGZvciAoY29uc3Qga2V5IG9mIE9iamVjdC5rZXlzKHN0eWxlQXR0cmlidXRlcykpIHsKICAgIGVsZW1lbnQuc3R5bGVba2V5XSA9IHN0eWxlQXR0cmlidXRlc1trZXldOwogIH0KICByZXR1cm4gZWxlbWVudDsKfQoKLy8gTWF4IG51bWJlciBvZiBieXRlcyB3aGljaCB3aWxsIGJlIHVwbG9hZGVkIGF0IGEgdGltZS4KY29uc3QgTUFYX1BBWUxPQURfU0laRSA9IDEwMCAqIDEwMjQ7CgpmdW5jdGlvbiBfdXBsb2FkRmlsZXMoaW5wdXRJZCwgb3V0cHV0SWQpIHsKICBjb25zdCBzdGVwcyA9IHVwbG9hZEZpbGVzU3RlcChpbnB1dElkLCBvdXRwdXRJZCk7CiAgY29uc3Qgb3V0cHV0RWxlbWVudCA9IGRvY3VtZW50LmdldEVsZW1lbnRCeUlkKG91dHB1dElkKTsKICAvLyBDYWNoZSBzdGVwcyBvbiB0aGUgb3V0cHV0RWxlbWVudCB0byBtYWtlIGl0IGF2YWlsYWJsZSBmb3IgdGhlIG5leHQgY2FsbAogIC8vIHRvIHVwbG9hZEZpbGVzQ29udGludWUgZnJvbSBQeXRob24uCiAgb3V0cHV0RWxlbWVudC5zdGVwcyA9IHN0ZXBzOwoKICByZXR1cm4gX3VwbG9hZEZpbGVzQ29udGludWUob3V0cHV0SWQpOwp9CgovLyBUaGlzIGlzIHJvdWdobHkgYW4gYXN5bmMgZ2VuZXJhdG9yIChub3Qgc3VwcG9ydGVkIGluIHRoZSBicm93c2VyIHlldCksCi8vIHdoZXJlIHRoZXJlIGFyZSBtdWx0aXBsZSBhc3luY2hyb25vdXMgc3RlcHMgYW5kIHRoZSBQeXRob24gc2lkZSBpcyBnb2luZwovLyB0byBwb2xsIGZvciBjb21wbGV0aW9uIG9mIGVhY2ggc3RlcC4KLy8gVGhpcyB1c2VzIGEgUHJvbWlzZSB0byBibG9jayB0aGUgcHl0aG9uIHNpZGUgb24gY29tcGxldGlvbiBvZiBlYWNoIHN0ZXAsCi8vIHRoZW4gcGFzc2VzIHRoZSByZXN1bHQgb2YgdGhlIHByZXZpb3VzIHN0ZXAgYXMgdGhlIGlucHV0IHRvIHRoZSBuZXh0IHN0ZXAuCmZ1bmN0aW9uIF91cGxvYWRGaWxlc0NvbnRpbnVlKG91dHB1dElkKSB7CiAgY29uc3Qgb3V0cHV0RWxlbWVudCA9IGRvY3VtZW50LmdldEVsZW1lbnRCeUlkKG91dHB1dElkKTsKICBjb25zdCBzdGVwcyA9IG91dHB1dEVsZW1lbnQuc3RlcHM7CgogIGNvbnN0IG5leHQgPSBzdGVwcy5uZXh0KG91dHB1dEVsZW1lbnQubGFzdFByb21pc2VWYWx1ZSk7CiAgcmV0dXJuIFByb21pc2UucmVzb2x2ZShuZXh0LnZhbHVlLnByb21pc2UpLnRoZW4oKHZhbHVlKSA9PiB7CiAgICAvLyBDYWNoZSB0aGUgbGFzdCBwcm9taXNlIHZhbHVlIHRvIG1ha2UgaXQgYXZhaWxhYmxlIHRvIHRoZSBuZXh0CiAgICAvLyBzdGVwIG9mIHRoZSBnZW5lcmF0b3IuCiAgICBvdXRwdXRFbGVtZW50Lmxhc3RQcm9taXNlVmFsdWUgPSB2YWx1ZTsKICAgIHJldHVybiBuZXh0LnZhbHVlLnJlc3BvbnNlOwogIH0pOwp9CgovKioKICogR2VuZXJhdG9yIGZ1bmN0aW9uIHdoaWNoIGlzIGNhbGxlZCBiZXR3ZWVuIGVhY2ggYXN5bmMgc3RlcCBvZiB0aGUgdXBsb2FkCiAqIHByb2Nlc3MuCiAqIEBwYXJhbSB7c3RyaW5nfSBpbnB1dElkIEVsZW1lbnQgSUQgb2YgdGhlIGlucHV0IGZpbGUgcGlja2VyIGVsZW1lbnQuCiAqIEBwYXJhbSB7c3RyaW5nfSBvdXRwdXRJZCBFbGVtZW50IElEIG9mIHRoZSBvdXRwdXQgZGlzcGxheS4KICogQHJldHVybiB7IUl0ZXJhYmxlPCFPYmplY3Q+fSBJdGVyYWJsZSBvZiBuZXh0IHN0ZXBzLgogKi8KZnVuY3Rpb24qIHVwbG9hZEZpbGVzU3RlcChpbnB1dElkLCBvdXRwdXRJZCkgewogIGNvbnN0IGlucHV0RWxlbWVudCA9IGRvY3VtZW50LmdldEVsZW1lbnRCeUlkKGlucHV0SWQpOwogIGlucHV0RWxlbWVudC5kaXNhYmxlZCA9IGZhbHNlOwoKICBjb25zdCBvdXRwdXRFbGVtZW50ID0gZG9jdW1lbnQuZ2V0RWxlbWVudEJ5SWQob3V0cHV0SWQpOwogIG91dHB1dEVsZW1lbnQuaW5uZXJIVE1MID0gJyc7CgogIGNvbnN0IHBpY2tlZFByb21pc2UgPSBuZXcgUHJvbWlzZSgocmVzb2x2ZSkgPT4gewogICAgaW5wdXRFbGVtZW50LmFkZEV2ZW50TGlzdGVuZXIoJ2NoYW5nZScsIChlKSA9PiB7CiAgICAgIHJlc29sdmUoZS50YXJnZXQuZmlsZXMpOwogICAgfSk7CiAgfSk7CgogIGNvbnN0IGNhbmNlbCA9IGRvY3VtZW50LmNyZWF0ZUVsZW1lbnQoJ2J1dHRvbicpOwogIGlucHV0RWxlbWVudC5wYXJlbnRFbGVtZW50LmFwcGVuZENoaWxkKGNhbmNlbCk7CiAgY2FuY2VsLnRleHRDb250ZW50ID0gJ0NhbmNlbCB1cGxvYWQnOwogIGNvbnN0IGNhbmNlbFByb21pc2UgPSBuZXcgUHJvbWlzZSgocmVzb2x2ZSkgPT4gewogICAgY2FuY2VsLm9uY2xpY2sgPSAoKSA9PiB7CiAgICAgIHJlc29sdmUobnVsbCk7CiAgICB9OwogIH0pOwoKICAvLyBXYWl0IGZvciB0aGUgdXNlciB0byBwaWNrIHRoZSBmaWxlcy4KICBjb25zdCBmaWxlcyA9IHlpZWxkIHsKICAgIHByb21pc2U6IFByb21pc2UucmFjZShbcGlja2VkUHJvbWlzZSwgY2FuY2VsUHJvbWlzZV0pLAogICAgcmVzcG9uc2U6IHsKICAgICAgYWN0aW9uOiAnc3RhcnRpbmcnLAogICAgfQogIH07CgogIGNhbmNlbC5yZW1vdmUoKTsKCiAgLy8gRGlzYWJsZSB0aGUgaW5wdXQgZWxlbWVudCBzaW5jZSBmdXJ0aGVyIHBpY2tzIGFyZSBub3QgYWxsb3dlZC4KICBpbnB1dEVsZW1lbnQuZGlzYWJsZWQgPSB0cnVlOwoKICBpZiAoIWZpbGVzKSB7CiAgICByZXR1cm4gewogICAgICByZXNwb25zZTogewogICAgICAgIGFjdGlvbjogJ2NvbXBsZXRlJywKICAgICAgfQogICAgfTsKICB9CgogIGZvciAoY29uc3QgZmlsZSBvZiBmaWxlcykgewogICAgY29uc3QgbGkgPSBkb2N1bWVudC5jcmVhdGVFbGVtZW50KCdsaScpOwogICAgbGkuYXBwZW5kKHNwYW4oZmlsZS5uYW1lLCB7Zm9udFdlaWdodDogJ2JvbGQnfSkpOwogICAgbGkuYXBwZW5kKHNwYW4oCiAgICAgICAgYCgke2ZpbGUudHlwZSB8fCAnbi9hJ30pIC0gJHtmaWxlLnNpemV9IGJ5dGVzLCBgICsKICAgICAgICBgbGFzdCBtb2RpZmllZDogJHsKICAgICAgICAgICAgZmlsZS5sYXN0TW9kaWZpZWREYXRlID8gZmlsZS5sYXN0TW9kaWZpZWREYXRlLnRvTG9jYWxlRGF0ZVN0cmluZygpIDoKICAgICAgICAgICAgICAgICAgICAgICAgICAgICAgICAgICAgJ24vYSd9IC0gYCkpOwogICAgY29uc3QgcGVyY2VudCA9IHNwYW4oJzAlIGRvbmUnKTsKICAgIGxpLmFwcGVuZENoaWxkKHBlcmNlbnQpOwoKICAgIG91dHB1dEVsZW1lbnQuYXBwZW5kQ2hpbGQobGkpOwoKICAgIGNvbnN0IGZpbGVEYXRhUHJvbWlzZSA9IG5ldyBQcm9taXNlKChyZXNvbHZlKSA9PiB7CiAgICAgIGNvbnN0IHJlYWRlciA9IG5ldyBGaWxlUmVhZGVyKCk7CiAgICAgIHJlYWRlci5vbmxvYWQgPSAoZSkgPT4gewogICAgICAgIHJlc29sdmUoZS50YXJnZXQucmVzdWx0KTsKICAgICAgfTsKICAgICAgcmVhZGVyLnJlYWRBc0FycmF5QnVmZmVyKGZpbGUpOwogICAgfSk7CiAgICAvLyBXYWl0IGZvciB0aGUgZGF0YSB0byBiZSByZWFkeS4KICAgIGxldCBmaWxlRGF0YSA9IHlpZWxkIHsKICAgICAgcHJvbWlzZTogZmlsZURhdGFQcm9taXNlLAogICAgICByZXNwb25zZTogewogICAgICAgIGFjdGlvbjogJ2NvbnRpbnVlJywKICAgICAgfQogICAgfTsKCiAgICAvLyBVc2UgYSBjaHVua2VkIHNlbmRpbmcgdG8gYXZvaWQgbWVzc2FnZSBzaXplIGxpbWl0cy4gU2VlIGIvNjIxMTU2NjAuCiAgICBsZXQgcG9zaXRpb24gPSAwOwogICAgd2hpbGUgKHBvc2l0aW9uIDwgZmlsZURhdGEuYnl0ZUxlbmd0aCkgewogICAgICBjb25zdCBsZW5ndGggPSBNYXRoLm1pbihmaWxlRGF0YS5ieXRlTGVuZ3RoIC0gcG9zaXRpb24sIE1BWF9QQVlMT0FEX1NJWkUpOwogICAgICBjb25zdCBjaHVuayA9IG5ldyBVaW50OEFycmF5KGZpbGVEYXRhLCBwb3NpdGlvbiwgbGVuZ3RoKTsKICAgICAgcG9zaXRpb24gKz0gbGVuZ3RoOwoKICAgICAgY29uc3QgYmFzZTY0ID0gYnRvYShTdHJpbmcuZnJvbUNoYXJDb2RlLmFwcGx5KG51bGwsIGNodW5rKSk7CiAgICAgIHlpZWxkIHsKICAgICAgICByZXNwb25zZTogewogICAgICAgICAgYWN0aW9uOiAnYXBwZW5kJywKICAgICAgICAgIGZpbGU6IGZpbGUubmFtZSwKICAgICAgICAgIGRhdGE6IGJhc2U2NCwKICAgICAgICB9LAogICAgICB9OwogICAgICBwZXJjZW50LnRleHRDb250ZW50ID0KICAgICAgICAgIGAke01hdGgucm91bmQoKHBvc2l0aW9uIC8gZmlsZURhdGEuYnl0ZUxlbmd0aCkgKiAxMDApfSUgZG9uZWA7CiAgICB9CiAgfQoKICAvLyBBbGwgZG9uZS4KICB5aWVsZCB7CiAgICByZXNwb25zZTogewogICAgICBhY3Rpb246ICdjb21wbGV0ZScsCiAgICB9CiAgfTsKfQoKc2NvcGUuZ29vZ2xlID0gc2NvcGUuZ29vZ2xlIHx8IHt9OwpzY29wZS5nb29nbGUuY29sYWIgPSBzY29wZS5nb29nbGUuY29sYWIgfHwge307CnNjb3BlLmdvb2dsZS5jb2xhYi5fZmlsZXMgPSB7CiAgX3VwbG9hZEZpbGVzLAogIF91cGxvYWRGaWxlc0NvbnRpbnVlLAp9Owp9KShzZWxmKTsK",
              "ok": true,
              "headers": [
                [
                  "content-type",
                  "application/javascript"
                ]
              ],
              "status": 200,
              "status_text": ""
            }
          },
          "base_uri": "https://localhost:8080/",
          "height": 72
        },
        "id": "PJG-AHT5TAJ6",
        "outputId": "827f8707-98b7-4aa1-f8f6-aae86069136a"
      },
      "source": [
        "from google.colab import files\n",
        "uploaded = files.upload()"
      ],
      "execution_count": null,
      "outputs": [
        {
          "output_type": "display_data",
          "data": {
            "text/html": [
              "\n",
              "     <input type=\"file\" id=\"files-bfca1c1d-2cb5-4890-b98c-3c68ea5e9721\" name=\"files[]\" multiple disabled\n",
              "        style=\"border:none\" />\n",
              "     <output id=\"result-bfca1c1d-2cb5-4890-b98c-3c68ea5e9721\">\n",
              "      Upload widget is only available when the cell has been executed in the\n",
              "      current browser session. Please rerun this cell to enable.\n",
              "      </output>\n",
              "      <script src=\"/nbextensions/google.colab/files.js\"></script> "
            ],
            "text/plain": [
              "<IPython.core.display.HTML object>"
            ]
          },
          "metadata": {
            "tags": []
          }
        },
        {
          "output_type": "stream",
          "text": [
            "Saving mask_stream.mp3 to mask_stream.mp3\n"
          ],
          "name": "stdout"
        }
      ]
    },
    {
      "cell_type": "markdown",
      "metadata": {
        "id": "QI1ksRLYH-qb"
      },
      "source": [
        "Convert MP3 to WAV:"
      ]
    },
    {
      "cell_type": "code",
      "metadata": {
        "id": "_OgqcbZ8U4Te"
      },
      "source": [
        "!ffmpeg -hide_banner -loglevel error -y -i mask_stream.mp3 -acodec pcm_s16le -ac 1 -ar 16000 mask_stream.wav"
      ],
      "execution_count": null,
      "outputs": []
    },
    {
      "cell_type": "markdown",
      "metadata": {
        "id": "Gqa9SmruIKVy"
      },
      "source": [
        "Upload and unzip KWS model:"
      ]
    },
    {
      "cell_type": "code",
      "metadata": {
        "id": "vO1pvvClXbf5"
      },
      "source": [
        "!unzip -q masiki_model.zip"
      ],
      "execution_count": null,
      "outputs": []
    },
    {
      "cell_type": "markdown",
      "metadata": {
        "id": "dGAVfMvKIOdc"
      },
      "source": [
        "We don't have groundtruth knowledge of when keywords occur in the streaming audio file, so provide an empty file for groundtruth information:"
      ]
    },
    {
      "cell_type": "code",
      "metadata": {
        "id": "RDqxArFIa8Bo"
      },
      "source": [
        "!touch empty.txt"
      ],
      "execution_count": null,
      "outputs": []
    },
    {
      "cell_type": "markdown",
      "metadata": {
        "id": "LRhEXlXLINuy"
      },
      "source": [
        "Configure the KWS model with\n",
        "* detection threshold\n",
        "* wav file location\n",
        "* Keyword to use as a label\n",
        "* Filename to save results to"
      ]
    },
    {
      "cell_type": "code",
      "metadata": {
        "id": "e19tc3e5RXIB"
      },
      "source": [
        "target_word = \"masiki\"\n",
        "flags = sa.StreamFlags(\n",
        "    wav=\"/content/mask_stream.wav\",\n",
        "    ground_truth=\"/content/empty.txt\",\n",
        "    target_keyword=target_word,\n",
        "    detection_thresholds=[0.9],\n",
        "    average_window_duration_ms=100,\n",
        "    suppression_ms=500,\n",
        "    time_tolerance_ms=750, #only used when graphing\n",
        ")\n",
        "streamtarget = sa.StreamTarget(\n",
        "    target_lang=\"luganda\",\n",
        "    target_word=target_word,\n",
        "    model_path=\"/content/xfer_epochs_4_bs_64_nbs_2_val_acc_1.00_target_mask/\",\n",
        "    destination_result_pkl=\"/content/results.pkl\",\n",
        "    destination_result_inferences=\"/content/inferences.npy\",\n",
        "    stream_flags=[flags],\n",
        ")"
      ],
      "execution_count": null,
      "outputs": []
    },
    {
      "cell_type": "markdown",
      "metadata": {
        "id": "FmoDvkWvIsi_"
      },
      "source": [
        "Perform inference:"
      ]
    },
    {
      "cell_type": "code",
      "metadata": {
        "id": "Z09PeqJUXr4R"
      },
      "source": [
        "sa.eval_stream_test(streamtarget)"
      ],
      "execution_count": null,
      "outputs": []
    },
    {
      "cell_type": "markdown",
      "metadata": {
        "id": "4YUzxl6dIuxb"
      },
      "source": [
        "Inspect the inference results:"
      ]
    },
    {
      "cell_type": "code",
      "metadata": {
        "id": "zt592QzwX-Sp"
      },
      "source": [
        "with open(\"/content/results.pkl\", 'rb') as fh:\n",
        "  results = pickle.load(fh)"
      ],
      "execution_count": null,
      "outputs": []
    },
    {
      "cell_type": "code",
      "metadata": {
        "id": "cLMzKZhDcVGi"
      },
      "source": [
        "detections = results[\"masiki\"][0][1][0.9][0]"
      ],
      "execution_count": null,
      "outputs": []
    },
    {
      "cell_type": "code",
      "metadata": {
        "colab": {
          "base_uri": "https://localhost:8080/"
        },
        "id": "54yc37YKikpJ",
        "outputId": "f2d5eef9-af8d-4e7d-ca27-759a215d0740"
      },
      "source": [
        "len(detections)"
      ],
      "execution_count": null,
      "outputs": [
        {
          "output_type": "execute_result",
          "data": {
            "text/plain": [
              "35"
            ]
          },
          "metadata": {
            "tags": []
          },
          "execution_count": 27
        }
      ]
    },
    {
      "cell_type": "code",
      "metadata": {
        "colab": {
          "base_uri": "https://localhost:8080/"
        },
        "id": "-xTLBt0Binbj",
        "outputId": "8771f3ef-8e36-4ced-e40d-1ae0c8fd3022"
      },
      "source": [
        "[d[1] for d in detections]"
      ],
      "execution_count": null,
      "outputs": [
        {
          "output_type": "execute_result",
          "data": {
            "text/plain": [
              "[9060,\n",
              " 87680,\n",
              " 145460,\n",
              " 168460,\n",
              " 193620,\n",
              " 240960,\n",
              " 244680,\n",
              " 371240,\n",
              " 408680,\n",
              " 429280,\n",
              " 432020,\n",
              " 469280,\n",
              " 471240,\n",
              " 488600,\n",
              " 557360,\n",
              " 643200,\n",
              " 714680,\n",
              " 767480,\n",
              " 799340,\n",
              " 811720,\n",
              " 855500,\n",
              " 863180,\n",
              " 865300,\n",
              " 873320,\n",
              " 924360,\n",
              " 1030080,\n",
              " 1106680,\n",
              " 1199280,\n",
              " 1200600,\n",
              " 1228260,\n",
              " 1243620,\n",
              " 1310240,\n",
              " 1321400,\n",
              " 1323880,\n",
              " 1386420]"
            ]
          },
          "metadata": {
            "tags": []
          },
          "execution_count": 39
        }
      ]
    },
    {
      "cell_type": "code",
      "metadata": {
        "colab": {
          "base_uri": "https://localhost:8080/"
        },
        "id": "PRS8GBxyonqa",
        "outputId": "d4618c71-ffe4-4630-9ead-6bddd198e3a1"
      },
      "source": [
        "import sox\n",
        "import os\n",
        "from pathlib import Path\n",
        "extractions = Path(\"/content/extractions\")\n",
        "os.makedirs(extractions)\n",
        "for ix, (_, time_ms) in enumerate(detections):\n",
        "    dest_wav = str(\n",
        "        extractions\n",
        "        / f\"{ix:03d}_{target_word}_detection_{time_ms}ms.wav\"\n",
        "    )\n",
        "    print(dest_wav)\n",
        "    time_s = time_ms / 1000.0\n",
        "\n",
        "    transformer = sox.Transformer()\n",
        "    transformer.convert(samplerate=16000)  \n",
        "    transformer.trim(time_s - 1, time_s + 1)\n",
        "    transformer.build(\"/content/mask_stream.wav\", dest_wav)"
      ],
      "execution_count": null,
      "outputs": [
        {
          "output_type": "stream",
          "text": [
            "/content/extractions/000_masiki_detection_9060ms.wav\n",
            "/content/extractions/001_masiki_detection_87680ms.wav\n",
            "/content/extractions/002_masiki_detection_145460ms.wav\n",
            "/content/extractions/003_masiki_detection_168460ms.wav\n",
            "/content/extractions/004_masiki_detection_193620ms.wav\n",
            "/content/extractions/005_masiki_detection_240960ms.wav\n",
            "/content/extractions/006_masiki_detection_244680ms.wav\n",
            "/content/extractions/007_masiki_detection_371240ms.wav\n",
            "/content/extractions/008_masiki_detection_408680ms.wav\n",
            "/content/extractions/009_masiki_detection_429280ms.wav\n",
            "/content/extractions/010_masiki_detection_432020ms.wav\n",
            "/content/extractions/011_masiki_detection_469280ms.wav\n",
            "/content/extractions/012_masiki_detection_471240ms.wav\n",
            "/content/extractions/013_masiki_detection_488600ms.wav\n",
            "/content/extractions/014_masiki_detection_557360ms.wav\n",
            "/content/extractions/015_masiki_detection_643200ms.wav\n",
            "/content/extractions/016_masiki_detection_714680ms.wav\n",
            "/content/extractions/017_masiki_detection_767480ms.wav\n",
            "/content/extractions/018_masiki_detection_799340ms.wav\n",
            "/content/extractions/019_masiki_detection_811720ms.wav\n",
            "/content/extractions/020_masiki_detection_855500ms.wav\n",
            "/content/extractions/021_masiki_detection_863180ms.wav\n",
            "/content/extractions/022_masiki_detection_865300ms.wav\n",
            "/content/extractions/023_masiki_detection_873320ms.wav\n",
            "/content/extractions/024_masiki_detection_924360ms.wav\n",
            "/content/extractions/025_masiki_detection_1030080ms.wav\n",
            "/content/extractions/026_masiki_detection_1106680ms.wav\n",
            "/content/extractions/027_masiki_detection_1199280ms.wav\n",
            "/content/extractions/028_masiki_detection_1200600ms.wav\n",
            "/content/extractions/029_masiki_detection_1228260ms.wav\n",
            "/content/extractions/030_masiki_detection_1243620ms.wav\n",
            "/content/extractions/031_masiki_detection_1310240ms.wav\n",
            "/content/extractions/032_masiki_detection_1321400ms.wav\n",
            "/content/extractions/033_masiki_detection_1323880ms.wav\n",
            "/content/extractions/034_masiki_detection_1386420ms.wav\n"
          ],
          "name": "stdout"
        }
      ]
    },
    {
      "cell_type": "code",
      "metadata": {
        "id": "L8M8j2JUqE6m"
      },
      "source": [
        "import IPython.display as ipd\n",
        "import numpy as np"
      ],
      "execution_count": null,
      "outputs": []
    },
    {
      "cell_type": "code",
      "metadata": {
        "colab": {
          "base_uri": "https://localhost:8080/",
          "height": 75
        },
        "id": "GYhzeu7eq_4M",
        "outputId": "66f5946b-8e13-4dba-a20d-6c7e8d2773a5"
      },
      "source": [
        "# listen to random extraction\n",
        "wavs = os.listdir(extractions)\n",
        "w = extractions / np.random.choice(wavs)\n",
        "ipd.Audio(filename=w)"
      ],
      "execution_count": null,
      "outputs": [
        {
          "output_type": "execute_result",
          "data": {
            "text/html": [
              "\n",
              "                <audio controls=\"controls\" >\n",
              "                    <source src=\"data:audio/x-wav;base64,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\" type=\"audio/x-wav\" />\n",
              "                    Your browser does not support the audio element.\n",
              "                </audio>\n",
              "              "
            ],
            "text/plain": [
              "<IPython.lib.display.Audio object>"
            ]
          },
          "metadata": {
            "tags": []
          },
          "execution_count": 50
        }
      ]
    },
    {
      "cell_type": "code",
      "metadata": {
        "colab": {
          "base_uri": "https://localhost:8080/"
        },
        "id": "CqzflCUtpirx",
        "outputId": "978046dd-59d6-4a92-e448-da3087521564"
      },
      "source": [
        "!zip -r extractions.zip extractions"
      ],
      "execution_count": null,
      "outputs": [
        {
          "output_type": "stream",
          "text": [
            "  adding: extractions/ (stored 0%)\n",
            "  adding: extractions/000_masiki_detection_9060ms.wav (deflated 6%)\n",
            "  adding: extractions/021_masiki_detection_863180ms.wav (deflated 9%)\n",
            "  adding: extractions/018_masiki_detection_799340ms.wav (deflated 14%)\n",
            "  adding: extractions/014_masiki_detection_557360ms.wav (deflated 6%)\n",
            "  adding: extractions/023_masiki_detection_873320ms.wav (deflated 6%)\n",
            "  adding: extractions/013_masiki_detection_488600ms.wav (deflated 7%)\n",
            "  adding: extractions/010_masiki_detection_432020ms.wav (deflated 3%)\n",
            "  adding: extractions/006_masiki_detection_244680ms.wav (deflated 8%)\n",
            "  adding: extractions/019_masiki_detection_811720ms.wav (deflated 6%)\n",
            "  adding: extractions/033_masiki_detection_1323880ms.wav (deflated 8%)\n",
            "  adding: extractions/034_masiki_detection_1386420ms.wav (deflated 4%)\n",
            "  adding: extractions/028_masiki_detection_1200600ms.wav (deflated 6%)\n",
            "  adding: extractions/015_masiki_detection_643200ms.wav (deflated 4%)\n",
            "  adding: extractions/017_masiki_detection_767480ms.wav (deflated 5%)\n",
            "  adding: extractions/032_masiki_detection_1321400ms.wav (deflated 5%)\n",
            "  adding: extractions/007_masiki_detection_371240ms.wav (deflated 6%)\n",
            "  adding: extractions/020_masiki_detection_855500ms.wav (deflated 2%)\n",
            "  adding: extractions/012_masiki_detection_471240ms.wav (deflated 4%)\n",
            "  adding: extractions/009_masiki_detection_429280ms.wav (deflated 3%)\n",
            "  adding: extractions/004_masiki_detection_193620ms.wav (deflated 8%)\n",
            "  adding: extractions/027_masiki_detection_1199280ms.wav (deflated 6%)\n",
            "  adding: extractions/022_masiki_detection_865300ms.wav (deflated 7%)\n",
            "  adding: extractions/029_masiki_detection_1228260ms.wav (deflated 7%)\n",
            "  adding: extractions/011_masiki_detection_469280ms.wav (deflated 4%)\n",
            "  adding: extractions/008_masiki_detection_408680ms.wav (deflated 8%)\n",
            "  adding: extractions/003_masiki_detection_168460ms.wav (deflated 6%)\n",
            "  adding: extractions/002_masiki_detection_145460ms.wav (deflated 2%)\n",
            "  adding: extractions/026_masiki_detection_1106680ms.wav (deflated 8%)\n",
            "  adding: extractions/025_masiki_detection_1030080ms.wav (deflated 10%)\n",
            "  adding: extractions/001_masiki_detection_87680ms.wav (deflated 7%)\n",
            "  adding: extractions/005_masiki_detection_240960ms.wav (deflated 7%)\n",
            "  adding: extractions/024_masiki_detection_924360ms.wav (deflated 15%)\n",
            "  adding: extractions/030_masiki_detection_1243620ms.wav (deflated 12%)\n",
            "  adding: extractions/031_masiki_detection_1310240ms.wav (deflated 6%)\n",
            "  adding: extractions/016_masiki_detection_714680ms.wav (deflated 5%)\n"
          ],
          "name": "stdout"
        }
      ]
    }
  ]
}